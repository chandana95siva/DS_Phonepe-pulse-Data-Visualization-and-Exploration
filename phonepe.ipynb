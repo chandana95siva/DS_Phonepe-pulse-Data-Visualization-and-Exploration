{
 "cells": [
  {
   "cell_type": "code",
   "execution_count": 1,
   "metadata": {},
   "outputs": [],
   "source": [
    "import pandas as pd\n",
    "import numpy as np"
   ]
  },
  {
   "cell_type": "code",
   "execution_count": 2,
   "metadata": {},
   "outputs": [],
   "source": [
    "import sqlite3\n",
    "con = sqlite3.connect(\"phonepe.db\")\n",
    "mycursor = con.cursor()"
   ]
  },
  {
   "cell_type": "code",
   "execution_count": 3,
   "metadata": {},
   "outputs": [
    {
     "data": {
      "text/html": [
       "<div>\n",
       "<style scoped>\n",
       "    .dataframe tbody tr th:only-of-type {\n",
       "        vertical-align: middle;\n",
       "    }\n",
       "\n",
       "    .dataframe tbody tr th {\n",
       "        vertical-align: top;\n",
       "    }\n",
       "\n",
       "    .dataframe thead th {\n",
       "        text-align: right;\n",
       "    }\n",
       "</style>\n",
       "<table border=\"1\" class=\"dataframe\">\n",
       "  <thead>\n",
       "    <tr style=\"text-align: right;\">\n",
       "      <th></th>\n",
       "      <th>State</th>\n",
       "      <th>Year</th>\n",
       "      <th>Quater</th>\n",
       "      <th>Transaction_type</th>\n",
       "      <th>Transaction_count</th>\n",
       "      <th>Transaction_amt</th>\n",
       "    </tr>\n",
       "  </thead>\n",
       "  <tbody>\n",
       "    <tr>\n",
       "      <th>0</th>\n",
       "      <td>manipur</td>\n",
       "      <td>2020</td>\n",
       "      <td>2</td>\n",
       "      <td>Peer-to-peer payments</td>\n",
       "      <td>533206</td>\n",
       "      <td>2.980243e+09</td>\n",
       "    </tr>\n",
       "  </tbody>\n",
       "</table>\n",
       "</div>"
      ],
      "text/plain": [
       "     State  Year  Quater       Transaction_type  Transaction_count  \\\n",
       "0  manipur  2020       2  Peer-to-peer payments             533206   \n",
       "\n",
       "   Transaction_amt  \n",
       "0     2.980243e+09  "
      ]
     },
     "execution_count": 3,
     "metadata": {},
     "output_type": "execute_result"
    }
   ],
   "source": [
    "AGG_TRANS = pd.read_csv(\"AGGREGATED_TRANS.csv\")\n",
    "AGG_TRANS.head(1)"
   ]
  },
  {
   "cell_type": "code",
   "execution_count": 4,
   "metadata": {},
   "outputs": [],
   "source": [
    "mycursor.execute('''CREATE TABLE IF NOT EXISTS AGGREGATED_TRANSACTION(\n",
    "                  State VARCHAR(200),\n",
    "                  Year INT,\n",
    "                  Quater INT,\n",
    "                  Transaction_type VARCHAR(200),\n",
    "                  Transaction_count INT,\n",
    "                  Transaction_amt DOUBLE)''')\n",
    "con.commit()"
   ]
  },
  {
   "cell_type": "code",
   "execution_count": 5,
   "metadata": {},
   "outputs": [],
   "source": [
    "for row in AGG_TRANS.itertuples():\n",
    "    query = '''insert into AGGREGATED_TRANSACTION(State,Year,Quater,Transaction_type,Transaction_count,Transaction_amt) \n",
    "                                                   values(?,?,?,?,?,?)'''\n",
    "    Values = (row.State,row.Year,row.Quater,row.Transaction_type,row.Transaction_count,row.Transaction_amt)\n",
    "    mycursor.execute(query,Values)\n",
    "con.commit()"
   ]
  },
  {
   "cell_type": "code",
   "execution_count": 6,
   "metadata": {},
   "outputs": [
    {
     "data": {
      "text/html": [
       "<div>\n",
       "<style scoped>\n",
       "    .dataframe tbody tr th:only-of-type {\n",
       "        vertical-align: middle;\n",
       "    }\n",
       "\n",
       "    .dataframe tbody tr th {\n",
       "        vertical-align: top;\n",
       "    }\n",
       "\n",
       "    .dataframe thead th {\n",
       "        text-align: right;\n",
       "    }\n",
       "</style>\n",
       "<table border=\"1\" class=\"dataframe\">\n",
       "  <thead>\n",
       "    <tr style=\"text-align: right;\">\n",
       "      <th></th>\n",
       "      <th>State</th>\n",
       "      <th>Year</th>\n",
       "      <th>Quater</th>\n",
       "      <th>Brand_name</th>\n",
       "      <th>UserCount</th>\n",
       "      <th>UserPercentage</th>\n",
       "    </tr>\n",
       "  </thead>\n",
       "  <tbody>\n",
       "    <tr>\n",
       "      <th>0</th>\n",
       "      <td>manipur</td>\n",
       "      <td>2020</td>\n",
       "      <td>2</td>\n",
       "      <td>Xiaomi</td>\n",
       "      <td>101637</td>\n",
       "      <td>0.471642</td>\n",
       "    </tr>\n",
       "  </tbody>\n",
       "</table>\n",
       "</div>"
      ],
      "text/plain": [
       "     State  Year  Quater Brand_name  UserCount  UserPercentage\n",
       "0  manipur  2020       2     Xiaomi     101637        0.471642"
      ]
     },
     "execution_count": 6,
     "metadata": {},
     "output_type": "execute_result"
    }
   ],
   "source": [
    "AGG_user=pd.read_csv(\"AGGREGATED_USER.csv\")\n",
    "AGG_user.head(1)"
   ]
  },
  {
   "cell_type": "code",
   "execution_count": 7,
   "metadata": {},
   "outputs": [],
   "source": [
    "mycursor.execute('''CREATE TABLE IF NOT EXISTS AGGREGATED_USER(\n",
    "                    State VARCHAR(200),\n",
    "                    Year INT,\n",
    "                    Quater INT,\n",
    "                    Brand_name\tVARCHAR(200),\n",
    "                    UserCount INT,\n",
    "                    UserPercentage INT)''')\n",
    "con.commit()"
   ]
  },
  {
   "cell_type": "code",
   "execution_count": 8,
   "metadata": {},
   "outputs": [],
   "source": [
    "for row in AGG_user.itertuples():\n",
    "    query = '''insert into AGGREGATED_USER(State,Year,Quater,Brand_name,UserCount,UserPercentage) \n",
    "                                                   values(?,?,?,?,?,?)'''\n",
    "    Values = (row.State,row.Year,row.Quater,row.Brand_name,row.UserCount,row.UserPercentage)\n",
    "    mycursor.execute(query,Values)\n",
    "con.commit()    \n"
   ]
  },
  {
   "cell_type": "code",
   "execution_count": 9,
   "metadata": {},
   "outputs": [
    {
     "data": {
      "text/html": [
       "<div>\n",
       "<style scoped>\n",
       "    .dataframe tbody tr th:only-of-type {\n",
       "        vertical-align: middle;\n",
       "    }\n",
       "\n",
       "    .dataframe tbody tr th {\n",
       "        vertical-align: top;\n",
       "    }\n",
       "\n",
       "    .dataframe thead th {\n",
       "        text-align: right;\n",
       "    }\n",
       "</style>\n",
       "<table border=\"1\" class=\"dataframe\">\n",
       "  <thead>\n",
       "    <tr style=\"text-align: right;\">\n",
       "      <th></th>\n",
       "      <th>State</th>\n",
       "      <th>Year</th>\n",
       "      <th>Quater</th>\n",
       "      <th>metric_amount</th>\n",
       "      <th>metric_count</th>\n",
       "      <th>metric_type</th>\n",
       "    </tr>\n",
       "  </thead>\n",
       "  <tbody>\n",
       "    <tr>\n",
       "      <th>0</th>\n",
       "      <td>manipur</td>\n",
       "      <td>2020</td>\n",
       "      <td>2</td>\n",
       "      <td>1.050349e+08</td>\n",
       "      <td>48617</td>\n",
       "      <td>kangpokpi district</td>\n",
       "    </tr>\n",
       "  </tbody>\n",
       "</table>\n",
       "</div>"
      ],
      "text/plain": [
       "     State  Year  Quater  metric_amount  metric_count         metric_type\n",
       "0  manipur  2020       2   1.050349e+08         48617  kangpokpi district"
      ]
     },
     "execution_count": 9,
     "metadata": {},
     "output_type": "execute_result"
    }
   ],
   "source": [
    "Map_trans =pd.read_csv(\"Map_Trans.csv\")\n",
    "Map_trans.head(1)"
   ]
  },
  {
   "cell_type": "code",
   "execution_count": 10,
   "metadata": {},
   "outputs": [],
   "source": [
    "mycursor.execute('''CREATE TABLE IF NOT EXISTS MAP_TRANSACTION(\n",
    "                  State VARCHAR(200),\n",
    "                  Year INT,\n",
    "                  Quater INT,\n",
    "                  metric_amount DOUBLE,\n",
    "                  metric_count INT,\n",
    "                  metric_type VARCHAR(200))''')\n",
    "con.commit()"
   ]
  },
  {
   "cell_type": "code",
   "execution_count": 11,
   "metadata": {},
   "outputs": [],
   "source": [
    "for row in Map_trans.itertuples():\n",
    "    query = '''insert into MAP_TRANSACTION(State,Year,Quater,metric_amount,metric_count, metric_type) \n",
    "                                                   values(?,?,?,?,?,?)'''\n",
    "    Values = (row.State,row.Year,row.Quater,row.metric_amount,row.metric_count,row.metric_type)\n",
    "    mycursor.execute(query,Values)\n",
    "con.commit()    \n"
   ]
  },
  {
   "cell_type": "code",
   "execution_count": 12,
   "metadata": {},
   "outputs": [
    {
     "data": {
      "text/html": [
       "<div>\n",
       "<style scoped>\n",
       "    .dataframe tbody tr th:only-of-type {\n",
       "        vertical-align: middle;\n",
       "    }\n",
       "\n",
       "    .dataframe tbody tr th {\n",
       "        vertical-align: top;\n",
       "    }\n",
       "\n",
       "    .dataframe thead th {\n",
       "        text-align: right;\n",
       "    }\n",
       "</style>\n",
       "<table border=\"1\" class=\"dataframe\">\n",
       "  <thead>\n",
       "    <tr style=\"text-align: right;\">\n",
       "      <th></th>\n",
       "      <th>State</th>\n",
       "      <th>Year</th>\n",
       "      <th>Quater</th>\n",
       "      <th>RegisteredUsers</th>\n",
       "      <th>DISTRICTS</th>\n",
       "    </tr>\n",
       "  </thead>\n",
       "  <tbody>\n",
       "    <tr>\n",
       "      <th>0</th>\n",
       "      <td>manipur</td>\n",
       "      <td>2020</td>\n",
       "      <td>2</td>\n",
       "      <td>12965</td>\n",
       "      <td>kangpokpi district</td>\n",
       "    </tr>\n",
       "  </tbody>\n",
       "</table>\n",
       "</div>"
      ],
      "text/plain": [
       "     State  Year  Quater  RegisteredUsers           DISTRICTS\n",
       "0  manipur  2020       2            12965  kangpokpi district"
      ]
     },
     "execution_count": 12,
     "metadata": {},
     "output_type": "execute_result"
    }
   ],
   "source": [
    "MAP_user =pd.read_csv(\"Map_User.csv\")\n",
    "MAP_user .head(1)"
   ]
  },
  {
   "cell_type": "code",
   "execution_count": 13,
   "metadata": {},
   "outputs": [],
   "source": [
    "mycursor.execute('''CREATE TABLE IF NOT EXISTS MAP_USER(\n",
    "                  State VARCHAR(200),\n",
    "                  Year INT,\n",
    "                  Quater INT,\n",
    "                  RegisteredUsers INT,\n",
    "                  DISTRICTS VARCHAR(200))''')\n",
    "con.commit()"
   ]
  },
  {
   "cell_type": "code",
   "execution_count": 14,
   "metadata": {},
   "outputs": [],
   "source": [
    "for row in MAP_user.itertuples():\n",
    "    query = '''insert into MAP_USER(State,Year,Quater,RegisteredUsers,DISTRICTS) \n",
    "                                                   values(?,?,?,?,?)'''\n",
    "    Values = (row.State,row.Year,row.Quater,row.RegisteredUsers,row.DISTRICTS)\n",
    "    mycursor.execute(query,Values)\n",
    "con.commit()    \n"
   ]
  },
  {
   "cell_type": "code",
   "execution_count": 15,
   "metadata": {},
   "outputs": [
    {
     "data": {
      "text/html": [
       "<div>\n",
       "<style scoped>\n",
       "    .dataframe tbody tr th:only-of-type {\n",
       "        vertical-align: middle;\n",
       "    }\n",
       "\n",
       "    .dataframe tbody tr th {\n",
       "        vertical-align: top;\n",
       "    }\n",
       "\n",
       "    .dataframe thead th {\n",
       "        text-align: right;\n",
       "    }\n",
       "</style>\n",
       "<table border=\"1\" class=\"dataframe\">\n",
       "  <thead>\n",
       "    <tr style=\"text-align: right;\">\n",
       "      <th></th>\n",
       "      <th>State</th>\n",
       "      <th>Year</th>\n",
       "      <th>Quater</th>\n",
       "      <th>EntityName</th>\n",
       "      <th>metric_amount</th>\n",
       "      <th>metric_count</th>\n",
       "    </tr>\n",
       "  </thead>\n",
       "  <tbody>\n",
       "    <tr>\n",
       "      <th>0</th>\n",
       "      <td>manipur</td>\n",
       "      <td>2020</td>\n",
       "      <td>2</td>\n",
       "      <td>imphal west</td>\n",
       "      <td>2.034862e+09</td>\n",
       "      <td>551775</td>\n",
       "    </tr>\n",
       "  </tbody>\n",
       "</table>\n",
       "</div>"
      ],
      "text/plain": [
       "     State  Year  Quater   EntityName  metric_amount  metric_count\n",
       "0  manipur  2020       2  imphal west   2.034862e+09        551775"
      ]
     },
     "execution_count": 15,
     "metadata": {},
     "output_type": "execute_result"
    }
   ],
   "source": [
    "TOP_TRANS_DIS=pd.read_csv(\"Top_Trans_Districts.csv\")\n",
    "TOP_TRANS_DIS.head(1)"
   ]
  },
  {
   "cell_type": "code",
   "execution_count": 16,
   "metadata": {},
   "outputs": [],
   "source": [
    "mycursor.execute('''CREATE TABLE IF NOT EXISTS TOP_TRANSACTION_DISTRICTS(\n",
    "                  State VARCHAR(200),\n",
    "                  Year INT,\n",
    "                  Quater INT,\n",
    "                  EntityName VARCHAR(200),\n",
    "                  metric_amount DOUBLE,\n",
    "                  metric_count INT)''')\n",
    "con.commit()"
   ]
  },
  {
   "cell_type": "code",
   "execution_count": 17,
   "metadata": {},
   "outputs": [],
   "source": [
    "for row in TOP_TRANS_DIS.itertuples():\n",
    "    query = '''insert into TOP_TRANSACTION_DISTRICTS(State,Year,Quater,EntityName,metric_amount, metric_count) \n",
    "                                                   values(?,?,?,?,?,?)'''\n",
    "    Values = (row.State,row.Year,row.Quater,row.EntityName,row.metric_amount,row.metric_count)\n",
    "    mycursor.execute(query,Values)\n",
    "con.commit()    \n"
   ]
  },
  {
   "cell_type": "code",
   "execution_count": 18,
   "metadata": {},
   "outputs": [
    {
     "data": {
      "text/html": [
       "<div>\n",
       "<style scoped>\n",
       "    .dataframe tbody tr th:only-of-type {\n",
       "        vertical-align: middle;\n",
       "    }\n",
       "\n",
       "    .dataframe tbody tr th {\n",
       "        vertical-align: top;\n",
       "    }\n",
       "\n",
       "    .dataframe thead th {\n",
       "        text-align: right;\n",
       "    }\n",
       "</style>\n",
       "<table border=\"1\" class=\"dataframe\">\n",
       "  <thead>\n",
       "    <tr style=\"text-align: right;\">\n",
       "      <th></th>\n",
       "      <th>State</th>\n",
       "      <th>Year</th>\n",
       "      <th>Quater</th>\n",
       "      <th>Entity_Name</th>\n",
       "      <th>Metric_Amount</th>\n",
       "      <th>Metric_Count</th>\n",
       "    </tr>\n",
       "  </thead>\n",
       "  <tbody>\n",
       "    <tr>\n",
       "      <th>0</th>\n",
       "      <td>manipur</td>\n",
       "      <td>2020</td>\n",
       "      <td>2</td>\n",
       "      <td>795004.0</td>\n",
       "      <td>1.785186e+09</td>\n",
       "      <td>434372</td>\n",
       "    </tr>\n",
       "  </tbody>\n",
       "</table>\n",
       "</div>"
      ],
      "text/plain": [
       "     State  Year  Quater  Entity_Name  Metric_Amount  Metric_Count\n",
       "0  manipur  2020       2     795004.0   1.785186e+09        434372"
      ]
     },
     "execution_count": 18,
     "metadata": {},
     "output_type": "execute_result"
    }
   ],
   "source": [
    "TOP_trans_pin =  pd.read_csv(\"Top_Trans_pincode.csv\")\n",
    "TOP_trans_pin.head(1)"
   ]
  },
  {
   "cell_type": "code",
   "execution_count": 19,
   "metadata": {},
   "outputs": [],
   "source": [
    "mycursor.execute('''CREATE TABLE IF NOT EXISTS TOP_TRANSACTION_PINCODE(\n",
    "                  State\tVARCHAR(200),\n",
    "                  Year INT,\n",
    "                  Quater INT,\n",
    "                  Entity_Name INT,\n",
    "                  Metric_Amount DOUBLE,\n",
    "                  Metric_Count INT)''')\n",
    "con.commit()"
   ]
  },
  {
   "cell_type": "code",
   "execution_count": 20,
   "metadata": {},
   "outputs": [],
   "source": [
    "for row in TOP_trans_pin.itertuples():\n",
    "    query = '''insert into TOP_TRANSACTION_PINCODE(State,Year,Quater,Entity_Name,Metric_Amount,Metric_Count) \n",
    "                                                   values(?,?,?,?,?,?)'''\n",
    "    Values = (row.State,row.Year,row.Quater,row.Entity_Name,row.Metric_Amount,row.Metric_Count)\n",
    "    mycursor.execute(query,Values)\n",
    "con.commit()    \n"
   ]
  },
  {
   "cell_type": "code",
   "execution_count": 21,
   "metadata": {},
   "outputs": [
    {
     "data": {
      "text/html": [
       "<div>\n",
       "<style scoped>\n",
       "    .dataframe tbody tr th:only-of-type {\n",
       "        vertical-align: middle;\n",
       "    }\n",
       "\n",
       "    .dataframe tbody tr th {\n",
       "        vertical-align: top;\n",
       "    }\n",
       "\n",
       "    .dataframe thead th {\n",
       "        text-align: right;\n",
       "    }\n",
       "</style>\n",
       "<table border=\"1\" class=\"dataframe\">\n",
       "  <thead>\n",
       "    <tr style=\"text-align: right;\">\n",
       "      <th></th>\n",
       "      <th>State</th>\n",
       "      <th>Year</th>\n",
       "      <th>Quater</th>\n",
       "      <th>RegisteredUsers</th>\n",
       "      <th>Districts</th>\n",
       "    </tr>\n",
       "  </thead>\n",
       "  <tbody>\n",
       "    <tr>\n",
       "      <th>0</th>\n",
       "      <td>manipur</td>\n",
       "      <td>2020</td>\n",
       "      <td>2</td>\n",
       "      <td>67897</td>\n",
       "      <td>imphal west</td>\n",
       "    </tr>\n",
       "  </tbody>\n",
       "</table>\n",
       "</div>"
      ],
      "text/plain": [
       "     State  Year  Quater  RegisteredUsers    Districts\n",
       "0  manipur  2020       2            67897  imphal west"
      ]
     },
     "execution_count": 21,
     "metadata": {},
     "output_type": "execute_result"
    }
   ],
   "source": [
    "TOP_USER_DIS = pd.read_csv(\"Top_User_districts.csv\")\n",
    "TOP_USER_DIS.head(1)"
   ]
  },
  {
   "cell_type": "code",
   "execution_count": 22,
   "metadata": {},
   "outputs": [],
   "source": [
    "mycursor.execute('''CREATE TABLE IF NOT EXISTS TOP_USER_DISTRICTS(\n",
    "                  State VARCHAR(200),\n",
    "                  Year INT,\n",
    "                  Quater INT,\n",
    "                  RegisteredUsers INT,\n",
    "                  Districts VARCHAR(200))''')\n",
    "con.commit()"
   ]
  },
  {
   "cell_type": "code",
   "execution_count": 23,
   "metadata": {},
   "outputs": [],
   "source": [
    "for row in TOP_USER_DIS.itertuples():\n",
    "    query = '''insert into TOP_USER_DISTRICTS(State,Year,Quater,RegisteredUsers,Districts) \n",
    "                                                   values(?,?,?,?,?)'''\n",
    "    Values = (row.State,row.Year,row.Quater,row.RegisteredUsers,row.Districts)\n",
    "    mycursor.execute(query,Values)\n",
    "con.commit()"
   ]
  },
  {
   "cell_type": "code",
   "execution_count": 24,
   "metadata": {},
   "outputs": [
    {
     "data": {
      "text/html": [
       "<div>\n",
       "<style scoped>\n",
       "    .dataframe tbody tr th:only-of-type {\n",
       "        vertical-align: middle;\n",
       "    }\n",
       "\n",
       "    .dataframe tbody tr th {\n",
       "        vertical-align: top;\n",
       "    }\n",
       "\n",
       "    .dataframe thead th {\n",
       "        text-align: right;\n",
       "    }\n",
       "</style>\n",
       "<table border=\"1\" class=\"dataframe\">\n",
       "  <thead>\n",
       "    <tr style=\"text-align: right;\">\n",
       "      <th></th>\n",
       "      <th>State</th>\n",
       "      <th>Year</th>\n",
       "      <th>Quater</th>\n",
       "      <th>RegisteredUsers</th>\n",
       "      <th>Pincode</th>\n",
       "    </tr>\n",
       "  </thead>\n",
       "  <tbody>\n",
       "    <tr>\n",
       "      <th>0</th>\n",
       "      <td>manipur</td>\n",
       "      <td>2020</td>\n",
       "      <td>2</td>\n",
       "      <td>32442</td>\n",
       "      <td>795004</td>\n",
       "    </tr>\n",
       "  </tbody>\n",
       "</table>\n",
       "</div>"
      ],
      "text/plain": [
       "     State  Year  Quater  RegisteredUsers  Pincode\n",
       "0  manipur  2020       2            32442   795004"
      ]
     },
     "execution_count": 24,
     "metadata": {},
     "output_type": "execute_result"
    }
   ],
   "source": [
    "TOP_USER_PIN = pd.read_csv(\"Top_User_pincode.csv\")\n",
    "TOP_USER_PIN.head(1)"
   ]
  },
  {
   "cell_type": "code",
   "execution_count": 25,
   "metadata": {},
   "outputs": [],
   "source": [
    "mycursor.execute('''CREATE TABLE IF NOT EXISTS TOP_USER_PINCODE(\n",
    "                  State VARCHAR(200),\n",
    "                  Year INT,\n",
    "                  Quater INT,\n",
    "                  RegisteredUsers INT,\n",
    "                  Pincode INT)''')\n",
    "con.commit()"
   ]
  },
  {
   "cell_type": "code",
   "execution_count": 26,
   "metadata": {},
   "outputs": [],
   "source": [
    "for row in TOP_USER_PIN.itertuples():\n",
    "    query = '''insert into TOP_USER_PINCODE(State,Year,Quater,RegisteredUsers,Pincode) \n",
    "                                                   values(?,?,?,?,?)'''\n",
    "    Values = (row.State,row.Year,row.Quater,row.RegisteredUsers,row.Pincode)\n",
    "    mycursor.execute(query,Values)\n",
    "con.commit()    \n"
   ]
  },
  {
   "cell_type": "code",
   "execution_count": 4,
   "metadata": {},
   "outputs": [],
   "source": [
    "# SQL Query\n",
    "\n",
    "# Transaction Analysis bar chart query\n",
    "mycursor.execute(f\"SELECT State,Transaction_amt FROM AGGREGATED_TRANSACTION WHERE Year = Year AND Quater = Quater AND Transaction_type = Transaction_type\")\n",
    "AGG_trns_tab = mycursor.fetchall()\n",
    "df_AGG_trns_tab = pd.DataFrame(np.array(AGG_trns_tab), columns=['State', 'Transaction_amount'])\n",
    "df_AGG_trns_tab1 = df_AGG_trns_tab.set_index(pd.Index(range(1, len(df_AGG_trns_tab)+1)))\n",
    "\n",
    "       "
   ]
  },
  {
   "cell_type": "code",
   "execution_count": 5,
   "metadata": {},
   "outputs": [
    {
     "data": {
      "text/html": [
       "<div>\n",
       "<style scoped>\n",
       "    .dataframe tbody tr th:only-of-type {\n",
       "        vertical-align: middle;\n",
       "    }\n",
       "\n",
       "    .dataframe tbody tr th {\n",
       "        vertical-align: top;\n",
       "    }\n",
       "\n",
       "    .dataframe thead th {\n",
       "        text-align: right;\n",
       "    }\n",
       "</style>\n",
       "<table border=\"1\" class=\"dataframe\">\n",
       "  <thead>\n",
       "    <tr style=\"text-align: right;\">\n",
       "      <th></th>\n",
       "      <th>State</th>\n",
       "      <th>Transaction_amount</th>\n",
       "    </tr>\n",
       "  </thead>\n",
       "  <tbody>\n",
       "    <tr>\n",
       "      <th>1</th>\n",
       "      <td>manipur</td>\n",
       "      <td>2980242535.075443</td>\n",
       "    </tr>\n",
       "    <tr>\n",
       "      <th>2</th>\n",
       "      <td>manipur</td>\n",
       "      <td>107589094.29890464</td>\n",
       "    </tr>\n",
       "    <tr>\n",
       "      <th>3</th>\n",
       "      <td>manipur</td>\n",
       "      <td>106540409.29886684</td>\n",
       "    </tr>\n",
       "    <tr>\n",
       "      <th>4</th>\n",
       "      <td>manipur</td>\n",
       "      <td>1457570.8004862317</td>\n",
       "    </tr>\n",
       "    <tr>\n",
       "      <th>5</th>\n",
       "      <td>manipur</td>\n",
       "      <td>3106603.331810386</td>\n",
       "    </tr>\n",
       "    <tr>\n",
       "      <th>...</th>\n",
       "      <td>...</td>\n",
       "      <td>...</td>\n",
       "    </tr>\n",
       "    <tr>\n",
       "      <th>4130</th>\n",
       "      <td>jharkhand</td>\n",
       "      <td>12664709652.347084</td>\n",
       "    </tr>\n",
       "    <tr>\n",
       "      <th>4131</th>\n",
       "      <td>jharkhand</td>\n",
       "      <td>440323945.0577217</td>\n",
       "    </tr>\n",
       "    <tr>\n",
       "      <th>4132</th>\n",
       "      <td>jharkhand</td>\n",
       "      <td>391616776.11217976</td>\n",
       "    </tr>\n",
       "    <tr>\n",
       "      <th>4133</th>\n",
       "      <td>jharkhand</td>\n",
       "      <td>47227410.81132864</td>\n",
       "    </tr>\n",
       "    <tr>\n",
       "      <th>4134</th>\n",
       "      <td>jharkhand</td>\n",
       "      <td>83358664.9497917</td>\n",
       "    </tr>\n",
       "  </tbody>\n",
       "</table>\n",
       "<p>4134 rows × 2 columns</p>\n",
       "</div>"
      ],
      "text/plain": [
       "          State  Transaction_amount\n",
       "1       manipur   2980242535.075443\n",
       "2       manipur  107589094.29890464\n",
       "3       manipur  106540409.29886684\n",
       "4       manipur  1457570.8004862317\n",
       "5       manipur   3106603.331810386\n",
       "...         ...                 ...\n",
       "4130  jharkhand  12664709652.347084\n",
       "4131  jharkhand   440323945.0577217\n",
       "4132  jharkhand  391616776.11217976\n",
       "4133  jharkhand   47227410.81132864\n",
       "4134  jharkhand    83358664.9497917\n",
       "\n",
       "[4134 rows x 2 columns]"
      ]
     },
     "execution_count": 5,
     "metadata": {},
     "output_type": "execute_result"
    }
   ],
   "source": [
    "df_AGG_trns_tab1 "
   ]
  },
  {
   "cell_type": "code",
   "execution_count": 8,
   "metadata": {},
   "outputs": [],
   "source": [
    "# Transaction Analysis table query\n",
    "mycursor.execute(f\"SELECT State,Transaction_count,Transaction_amt FROM AGGREGATED_TRANSACTION WHERE Year = Year AND Quater = Quater AND Transaction_type = Transaction_type\")\n",
    "AGG_trns_tab = mycursor.fetchall()\n",
    "df_AGG_trns_tab = pd.DataFrame(np.array(AGG_trns_tab), columns=['State','Transaction_count','Transaction_amount'])\n",
    "\n"
   ]
  },
  {
   "cell_type": "code",
   "execution_count": 9,
   "metadata": {},
   "outputs": [
    {
     "data": {
      "text/html": [
       "<div>\n",
       "<style scoped>\n",
       "    .dataframe tbody tr th:only-of-type {\n",
       "        vertical-align: middle;\n",
       "    }\n",
       "\n",
       "    .dataframe tbody tr th {\n",
       "        vertical-align: top;\n",
       "    }\n",
       "\n",
       "    .dataframe thead th {\n",
       "        text-align: right;\n",
       "    }\n",
       "</style>\n",
       "<table border=\"1\" class=\"dataframe\">\n",
       "  <thead>\n",
       "    <tr style=\"text-align: right;\">\n",
       "      <th></th>\n",
       "      <th>State</th>\n",
       "      <th>Transaction_count</th>\n",
       "      <th>Transaction_amount</th>\n",
       "    </tr>\n",
       "  </thead>\n",
       "  <tbody>\n",
       "    <tr>\n",
       "      <th>0</th>\n",
       "      <td>manipur</td>\n",
       "      <td>533206</td>\n",
       "      <td>2980242535.075443</td>\n",
       "    </tr>\n",
       "    <tr>\n",
       "      <th>1</th>\n",
       "      <td>manipur</td>\n",
       "      <td>450830</td>\n",
       "      <td>107589094.29890464</td>\n",
       "    </tr>\n",
       "    <tr>\n",
       "      <th>2</th>\n",
       "      <td>manipur</td>\n",
       "      <td>92110</td>\n",
       "      <td>106540409.29886684</td>\n",
       "    </tr>\n",
       "    <tr>\n",
       "      <th>3</th>\n",
       "      <td>manipur</td>\n",
       "      <td>1676</td>\n",
       "      <td>1457570.8004862317</td>\n",
       "    </tr>\n",
       "    <tr>\n",
       "      <th>4</th>\n",
       "      <td>manipur</td>\n",
       "      <td>5246</td>\n",
       "      <td>3106603.331810386</td>\n",
       "    </tr>\n",
       "    <tr>\n",
       "      <th>...</th>\n",
       "      <td>...</td>\n",
       "      <td>...</td>\n",
       "      <td>...</td>\n",
       "    </tr>\n",
       "    <tr>\n",
       "      <th>4129</th>\n",
       "      <td>jharkhand</td>\n",
       "      <td>5952105</td>\n",
       "      <td>12664709652.347084</td>\n",
       "    </tr>\n",
       "    <tr>\n",
       "      <th>4130</th>\n",
       "      <td>jharkhand</td>\n",
       "      <td>2347079</td>\n",
       "      <td>440323945.0577217</td>\n",
       "    </tr>\n",
       "    <tr>\n",
       "      <th>4131</th>\n",
       "      <td>jharkhand</td>\n",
       "      <td>892826</td>\n",
       "      <td>391616776.11217976</td>\n",
       "    </tr>\n",
       "    <tr>\n",
       "      <th>4132</th>\n",
       "      <td>jharkhand</td>\n",
       "      <td>105558</td>\n",
       "      <td>47227410.81132864</td>\n",
       "    </tr>\n",
       "    <tr>\n",
       "      <th>4133</th>\n",
       "      <td>jharkhand</td>\n",
       "      <td>90140</td>\n",
       "      <td>83358664.9497917</td>\n",
       "    </tr>\n",
       "  </tbody>\n",
       "</table>\n",
       "<p>4134 rows × 3 columns</p>\n",
       "</div>"
      ],
      "text/plain": [
       "          State Transaction_count  Transaction_amount\n",
       "0       manipur            533206   2980242535.075443\n",
       "1       manipur            450830  107589094.29890464\n",
       "2       manipur             92110  106540409.29886684\n",
       "3       manipur              1676  1457570.8004862317\n",
       "4       manipur              5246   3106603.331810386\n",
       "...         ...               ...                 ...\n",
       "4129  jharkhand           5952105  12664709652.347084\n",
       "4130  jharkhand           2347079   440323945.0577217\n",
       "4131  jharkhand            892826  391616776.11217976\n",
       "4132  jharkhand            105558   47227410.81132864\n",
       "4133  jharkhand             90140    83358664.9497917\n",
       "\n",
       "[4134 rows x 3 columns]"
      ]
     },
     "execution_count": 9,
     "metadata": {},
     "output_type": "execute_result"
    }
   ],
   "source": [
    "df_AGG_trns_tab "
   ]
  },
  {
   "cell_type": "code",
   "execution_count": 10,
   "metadata": {},
   "outputs": [],
   "source": [
    "# Total Transaction Amount table query\n",
    "mycursor.execute(f\"SELECT SUM(Transaction_amt), AVG(Transaction_amt) FROM AGGREGATED_TRANSACTION WHERE Year = Year AND Quater= Quater AND Transaction_type = Transaction_type\")\n",
    "AGG_trns_tab= mycursor.fetchall()\n",
    "df_AGG_trns_tab = pd.DataFrame(np.array(AGG_trns_tab), columns=['Total','Average'])\n",
    "df_AGG_trns_tab1 = df_AGG_trns_tab.set_index(['Average'])"
   ]
  },
  {
   "cell_type": "code",
   "execution_count": 11,
   "metadata": {},
   "outputs": [
    {
     "data": {
      "text/html": [
       "<div>\n",
       "<style scoped>\n",
       "    .dataframe tbody tr th:only-of-type {\n",
       "        vertical-align: middle;\n",
       "    }\n",
       "\n",
       "    .dataframe tbody tr th {\n",
       "        vertical-align: top;\n",
       "    }\n",
       "\n",
       "    .dataframe thead th {\n",
       "        text-align: right;\n",
       "    }\n",
       "</style>\n",
       "<table border=\"1\" class=\"dataframe\">\n",
       "  <thead>\n",
       "    <tr style=\"text-align: right;\">\n",
       "      <th></th>\n",
       "      <th>Total</th>\n",
       "    </tr>\n",
       "    <tr>\n",
       "      <th>Average</th>\n",
       "      <th></th>\n",
       "    </tr>\n",
       "  </thead>\n",
       "  <tbody>\n",
       "    <tr>\n",
       "      <th>4.568227e+10</th>\n",
       "      <td>1.888505e+14</td>\n",
       "    </tr>\n",
       "  </tbody>\n",
       "</table>\n",
       "</div>"
      ],
      "text/plain": [
       "                     Total\n",
       "Average                   \n",
       "4.568227e+10  1.888505e+14"
      ]
     },
     "execution_count": 11,
     "metadata": {},
     "output_type": "execute_result"
    }
   ],
   "source": [
    "df_AGG_trns_tab1"
   ]
  },
  {
   "cell_type": "code",
   "execution_count": 12,
   "metadata": {},
   "outputs": [],
   "source": [
    "# Total Transaction Count table query\n",
    "mycursor.execute(f\"SELECT SUM(Transaction_count), AVG(Transaction_count) FROM AGGREGATED_TRANSACTION WHERE Year = Year AND Quater = Quater AND Transaction_type = Transaction_type\")\n",
    "AGG_trns_tab= mycursor.fetchall()\n",
    "df_AGG_trns_tab = pd.DataFrame(np.array(AGG_trns_tab), columns=['Total','Average'])\n",
    "df_AGG_trns_tab1 = df_AGG_trns_tab.set_index(['Average'])\n"
   ]
  },
  {
   "cell_type": "code",
   "execution_count": 13,
   "metadata": {},
   "outputs": [
    {
     "data": {
      "text/html": [
       "<div>\n",
       "<style scoped>\n",
       "    .dataframe tbody tr th:only-of-type {\n",
       "        vertical-align: middle;\n",
       "    }\n",
       "\n",
       "    .dataframe tbody tr th {\n",
       "        vertical-align: top;\n",
       "    }\n",
       "\n",
       "    .dataframe thead th {\n",
       "        text-align: right;\n",
       "    }\n",
       "</style>\n",
       "<table border=\"1\" class=\"dataframe\">\n",
       "  <thead>\n",
       "    <tr style=\"text-align: right;\">\n",
       "      <th></th>\n",
       "      <th>Total</th>\n",
       "    </tr>\n",
       "    <tr>\n",
       "      <th>Average</th>\n",
       "      <th></th>\n",
       "    </tr>\n",
       "  </thead>\n",
       "  <tbody>\n",
       "    <tr>\n",
       "      <th>2.829355e+07</th>\n",
       "      <td>1.169655e+11</td>\n",
       "    </tr>\n",
       "  </tbody>\n",
       "</table>\n",
       "</div>"
      ],
      "text/plain": [
       "                     Total\n",
       "Average                   \n",
       "2.829355e+07  1.169655e+11"
      ]
     },
     "execution_count": 13,
     "metadata": {},
     "output_type": "execute_result"
    }
   ],
   "source": [
    "df_AGG_trns_tab1"
   ]
  },
  {
   "cell_type": "code",
   "execution_count": null,
   "metadata": {},
   "outputs": [],
   "source": []
  },
  {
   "cell_type": "code",
   "execution_count": null,
   "metadata": {},
   "outputs": [],
   "source": []
  },
  {
   "cell_type": "code",
   "execution_count": null,
   "metadata": {},
   "outputs": [],
   "source": []
  }
 ],
 "metadata": {
  "kernelspec": {
   "display_name": "Python 3",
   "language": "python",
   "name": "python3"
  },
  "language_info": {
   "codemirror_mode": {
    "name": "ipython",
    "version": 3
   },
   "file_extension": ".py",
   "mimetype": "text/x-python",
   "name": "python",
   "nbconvert_exporter": "python",
   "pygments_lexer": "ipython3",
   "version": "3.11.8"
  }
 },
 "nbformat": 4,
 "nbformat_minor": 2
}
